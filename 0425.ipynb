{
  "nbformat": 4,
  "nbformat_minor": 0,
  "metadata": {
    "colab": {
      "name": "Untitled0.ipynb",
      "provenance": [],
      "authorship_tag": "ABX9TyOdRbazbr9i6hZw/wzUuA6g",
      "include_colab_link": true
    },
    "kernelspec": {
      "name": "python3",
      "display_name": "Python 3"
    },
    "language_info": {
      "name": "python"
    }
  },
  "cells": [
    {
      "cell_type": "markdown",
      "metadata": {
        "id": "view-in-github",
        "colab_type": "text"
      },
      "source": [
        "<a href=\"https://colab.research.google.com/github/Gongster123/class2022spring/blob/main/0425.ipynb\" target=\"_parent\"><img src=\"https://colab.research.google.com/assets/colab-badge.svg\" alt=\"Open In Colab\"/></a>"
      ]
    },
    {
      "cell_type": "code",
      "execution_count": null,
      "metadata": {
        "id": "61K6a6L_RRjs"
      },
      "outputs": [],
      "source": [
        ""
      ]
    },
    {
      "cell_type": "markdown",
      "source": [
        "RMS - Root Mean Square\n",
        "\n",
        "measuring intesnsity\n",
        "\n",
        "-root mean square 수학에서 이는 제곱평균제곱근으로 불린다. 줄임말은 rms로 평균값, 중앙값, 최빈값 등과 같이 어떤 집단의 특징이나 경향을 나타내는 대표값의 일종이다. 수학에서 평균을 구하는 방법 중의 하나로서, 원래의 값을 제곱한 값들의 평균값에 루트를 씌운 값을 계산하는 공식임 원래의 값의 평균값과 매우 유사한 성격의 값이다.\n",
        "\n",
        "\n",
        "\n",
        "Auto Correlation (자기 상관)\n",
        "\n",
        "measuring pitch\n",
        "\n",
        "시간 또는 공간적으로 연속된 일련의 관측치들 간에 존재하는 상관관계로서 시계열 데이터에 내재하는 시점간의 상관을 의미. 신호의 시변(time-variant)특성이 어떤가를 보여준다. 시계열자료(time series data)에서는 현재의 상태가 과거와 미래의 상태에 밀접한 연관을 지니는 경우가 많다고 함. 이럴 때 자기상관(autocorrelation) 또는 계열상관(series correlation)이 있다고 함, 자기상관은 '양의 자기상관'과 '음의 자기상관'이 존재할 수 있다."
      ],
      "metadata": {
        "id": "DBP322iTRT9f"
      }
    }
  ]
}
{
  "cells": [
    {
      "cell_type": "markdown",
      "metadata": {
        "id": "view-in-github",
        "colab_type": "text"
      },
      "source": [
        "<a href=\"https://colab.research.google.com/github/Gongster123/class2022spring/blob/main/20220328.ipynb\" target=\"_parent\"><img src=\"https://colab.research.google.com/assets/colab-badge.svg\" alt=\"Open In Colab\"/></a>"
      ]
    },
    {
      "cell_type": "code",
      "execution_count": null,
      "metadata": {
        "id": "Qnz4dAH3QO31"
      },
      "outputs": [],
      "source": [
        "import requests"
      ]
    },
    {
      "cell_type": "code",
      "execution_count": null,
      "metadata": {
        "id": "DDfBQptpvZ0F"
      },
      "outputs": [],
      "source": [
        "import pandas as pd"
      ]
    },
    {
      "cell_type": "code",
      "execution_count": null,
      "metadata": {
        "id": "haOM2JLrse6K"
      },
      "outputs": [],
      "source": [
        "!pip install gradio"
      ]
    },
    {
      "cell_type": "code",
      "execution_count": null,
      "metadata": {
        "id": "bOc-fqntsqY8"
      },
      "outputs": [],
      "source": [
        "import gradio as gr"
      ]
    },
    {
      "cell_type": "code",
      "execution_count": null,
      "metadata": {
        "id": "GEchcRfPstqI"
      },
      "outputs": [],
      "source": [
        "URL = ('http://apis.data.go.kr/B554031/Africa250CompanyService/getAfrica250CompanyList?serviceKey=Qk%2BhzA6k690XX%2B%2BLfzpzBvLWbMmkgxOkrQZSW6n8GbAaEcLyc80EdZZoHRsecreM0bw4zz%2FrBiFO3RO7dpHP3g%3D%3D'\n",
        "       '&numOfRows=300'\n",
        "       '&pageNo=1'\n",
        "       '&cond[country_nm::EQ]=가나'\n",
        "       '&returnType=json')\n",
        "response = requests.get(URL)"
      ]
    },
    {
      "cell_type": "code",
      "execution_count": null,
      "metadata": {
        "colab": {
          "base_uri": "https://localhost:8080/"
        },
        "id": "AdzbRSb2v1rS",
        "outputId": "76fc916d-5259-41aa-bb22-098076170090"
      },
      "outputs": [
        {
          "output_type": "execute_result",
          "data": {
            "text/plain": [
              "{'currentCount': 3,\n",
              " 'data': [{'addr': 'P.O. Box 134, Accra, Ghana',\n",
              "   'business_field': '금융 서비스',\n",
              "   'business_ty': '금융 및 보험업',\n",
              "   'ceo_nm': 'Jude Arthur',\n",
              "   'company_form': '사기업(주식회사)',\n",
              "   'country_eng_nm': 'Ghana',\n",
              "   'country_iso_alp2': 'GH',\n",
              "   'country_nm': '가나',\n",
              "   'email': 'corporateaffairs@gcb.com.gh',\n",
              "   'emp_cnt': 2304,\n",
              "   'eng_company_nm': 'Ghana Commercial Bank ',\n",
              "   'foundation_year': 1953,\n",
              "   'head_office_location': '가나 아크라(Accra)',\n",
              "   'homepage': 'www.gcbbank.com.gh',\n",
              "   'kor_company_nm': '가나 상업은행',\n",
              "   'market_cap': 205000000,\n",
              "   'market_cap_year': 2020,\n",
              "   'net_profit': 74000000,\n",
              "   'net_profit_year': 2020,\n",
              "   'parent_company_nm': None,\n",
              "   'special_note': '- 전국 184개의 지점을 보유한 가나에서 가장 규모가 큰 은행으로 가나 총 예치금의 14.2%를 차지\\n- 1996년 가나 증권거래소 상장\\n- 초기에는 가나 정부가 전체 지분을 소유했으나 2016년 기준 가나 정부는 약 기관 및 개인투자자가 소유 ',\n",
              "   'tel_no': '+233 (0) 302 663 964'},\n",
              "  {'addr': 'P.O. Box 768, Accra, Ghana',\n",
              "   'business_field': '금융 서비스',\n",
              "   'business_ty': '금융 및 보험업',\n",
              "   'ceo_nm': 'Mansa Nettey',\n",
              "   'company_form': '사기업(유한회사)',\n",
              "   'country_eng_nm': 'Ghana',\n",
              "   'country_iso_alp2': 'GH',\n",
              "   'country_nm': '가나',\n",
              "   'email': 'ghana@sc.com',\n",
              "   'emp_cnt': 2299,\n",
              "   'eng_company_nm': 'Standard Chartered Ghana ',\n",
              "   'foundation_year': 1896,\n",
              "   'head_office_location': '가나 아크라(Accra)',\n",
              "   'homepage': 'www.sc.com/gh',\n",
              "   'kor_company_nm': '스탠다그 차타드 가나 ',\n",
              "   'market_cap': 439000000,\n",
              "   'market_cap_year': 2020,\n",
              "   'net_profit': 48000000,\n",
              "   'net_profit_year': 2020,\n",
              "   'parent_company_nm': 'Standard Chartered ',\n",
              "   'special_note': \"- 2020년 Euromoney의 Awards for Excellence 2020에서 Africa's Best Bank Transformation 2020수상\\n- 2019년 BancAssurance Leader Award 수상\\n- 2019년 Global Finance Award에서 가나 Best Digital Consumer Bank 수상(8년 연속  수상)\",\n",
              "   'tel_no': '+233 (0) 302 669 688'},\n",
              "  {'addr': 'Plot No.70, George Walker Bush Highway, North Dzorwulu, Accra, Ghana ',\n",
              "   'business_field': '원유, 천연가스 채굴',\n",
              "   'business_ty': '광업',\n",
              "   'ceo_nm': 'Rahul Dhir',\n",
              "   'company_form': '사기업(주식회사)',\n",
              "   'country_eng_nm': 'Ghana',\n",
              "   'country_iso_alp2': 'GH',\n",
              "   'country_nm': '가나',\n",
              "   'email': None,\n",
              "   'emp_cnt': None,\n",
              "   'eng_company_nm': 'Tullow Oil ',\n",
              "   'foundation_year': 2006,\n",
              "   'head_office_location': '영국 런던(London)',\n",
              "   'homepage': 'www.tullowil.com',\n",
              "   'kor_company_nm': '털로우 오일',\n",
              "   'market_cap': -1406967296,\n",
              "   'market_cap_year': 2020,\n",
              "   'net_profit': -291000000,\n",
              "   'net_profit_year': 2020,\n",
              "   'parent_company_nm': None,\n",
              "   'special_note': '- 2007년 주빌리(Jubilee) 유전 탐사, 2010년부터 원류 채굴 및 생산\\n- 2013년 텐(Ten) 유전 발견 및 심해개발 시작, 2016년부터 원유 채굴 및 생산 ',\n",
              "   'tel_no': '+233 (0) 302 742 200'}],\n",
              " 'numOfRows': 300,\n",
              " 'pageNo': 1,\n",
              " 'resultCode': 0,\n",
              " 'resultMsg': '정상',\n",
              " 'totalCount': 250}"
            ]
          },
          "metadata": {},
          "execution_count": 6
        }
      ],
      "source": [
        "r = response.json()\n",
        "r\n"
      ]
    },
    {
      "cell_type": "code",
      "execution_count": null,
      "metadata": {
        "id": "DK2T-okguVpe"
      },
      "outputs": [],
      "source": [
        "items = r['data'] \n",
        "\n",
        "kor_company_nm = [item['kor_company_nm'] for item in items]\n",
        "eng_company_nm = [item['eng_company_nm'] for item in items]\n",
        "business_field = [item['business_field'] for item in items]\n",
        "homepage = [item['homepage'] for item in items]\n",
        "special_note = [item['special_note'] for item in items]\n",
        "\n",
        "kor_company_nm = pd.Series(kor_company_nm)\n",
        "eng_company_nm = pd.Series(eng_company_nm)\n",
        "business_field = pd.Series(business_field)\n",
        "homepage = pd.Series(homepage)\n",
        "special_note = pd.Series(special_note)\n",
        "\n",
        "\n",
        "df = pd.DataFrame({'kor_company_nm' : kor_company_nm, 'eng_company_nm' : eng_company_nm, 'business_field ' : business_field, 'homepage' : homepage, 'special_note' : special_note})\n",
        "\n"
      ]
    },
    {
      "cell_type": "code",
      "execution_count": null,
      "metadata": {
        "id": "gibE0uQmw3T-"
      },
      "outputs": [],
      "source": [
        "def test(country_nm):\n",
        "  URL = ('http://apis.data.go.kr/B554031/Africa250CompanyService/getAfrica250CompanyList?serviceKey=Qk%2BhzA6k690XX%2B%2BLfzpzBvLWbMmkgxOkrQZSW6n8GbAaEcLyc80EdZZoHRsecreM0bw4zz%2FrBiFO3RO7dpHP3g%3D%3D'\n",
        "       '&numOfRows=300'\n",
        "       '&pageNo=1'\n",
        "       '&cond[country_nm::EQ]='+country_nm+\n",
        "       '&returnType=json')\n",
        "  \n",
        "  response = requests.get(URL)\n",
        "  r = response.json()\n",
        "  items = r['data'] \n",
        "\n",
        "  kor_company_nm = [item['kor_company_nm'] for item in items]\n",
        "  eng_company_nm = [item['eng_company_nm'] for item in items]\n",
        "  business_field = [item['business_field'] for item in items]\n",
        "  homepage = [item['homepage'] for item in items]\n",
        "  special_note = [item['special_note'] for item in items]\n",
        "\n",
        "  kor_company_nm = pd.Series(kor_company_nm)\n",
        "  eng_company_nm = pd.Series(eng_company_nm)\n",
        "  business_field = pd.Series(business_field)\n",
        "  homepage = pd.Series(homepage)\n",
        "  special_note = pd.Series(special_note)\n",
        "\n",
        "\n",
        "  df = pd.DataFrame({'kor_company_nm' : kor_company_nm, 'eng_company_nm' : eng_company_nm, 'business_field ' : business_field, 'homepage' : homepage, 'special_note' : special_note})\n",
        "  return df"
      ]
    },
    {
      "cell_type": "code",
      "execution_count": null,
      "metadata": {
        "colab": {
          "background_save": true,
          "base_uri": "https://localhost:8080/",
          "height": 594
        },
        "id": "V8Txv17t19mc",
        "outputId": "5e393b30-e184-465b-e25e-9270206e18f4"
      },
      "outputs": [
        {
          "output_type": "stream",
          "name": "stdout",
          "text": [
            "Colab notebook detected. This cell will run indefinitely so that you can see errors and logs. To turn off, set debug=False in launch().\n",
            "Running on public URL: https://53515.gradio.app\n",
            "\n",
            "This share link expires in 72 hours. For free permanent hosting, check out Spaces (https://huggingface.co/spaces)\n"
          ]
        },
        {
          "output_type": "display_data",
          "data": {
            "text/plain": [
              "<IPython.lib.display.IFrame at 0x7feab62390d0>"
            ],
            "text/html": [
              "\n",
              "        <iframe\n",
              "            width=\"900\"\n",
              "            height=\"500\"\n",
              "            src=\"https://53515.gradio.app\"\n",
              "            frameborder=\"0\"\n",
              "            allowfullscreen\n",
              "        ></iframe>\n",
              "        "
            ]
          },
          "metadata": {}
        }
      ],
      "source": [
        "iface = gr.Interface(test, gr.inputs.Dropdown(['가나', '나미비아', '나이지리아', '남아프리카공화국', '말라위', '모로코', '모리셔스', '보츠와나', '부르키나파소', '세네갈', '우간다', '이집트', '잠비아', '짐바브웨', '케냐', '코트디부아르', '탄자니아', '튀니지']), outputs=['dataframe'])\n",
        "iface.launch(debug=True)"
      ]
    }
  ],
  "metadata": {
    "colab": {
      "name": "Untitled0.ipynb의 사본",
      "provenance": [],
      "authorship_tag": "ABX9TyN8yTA46Dk2vq8RFzo3wYmI",
      "include_colab_link": true
    },
    "kernelspec": {
      "display_name": "Python 3",
      "name": "python3"
    },
    "language_info": {
      "name": "python"
    }
  },
  "nbformat": 4,
  "nbformat_minor": 0
}